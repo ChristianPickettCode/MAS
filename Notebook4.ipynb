{
 "cells": [
  {
   "cell_type": "code",
   "execution_count": 20,
   "metadata": {},
   "outputs": [
    {
     "name": "stdout",
     "output_type": "stream",
     "text": [
      "[0.    0.497 0.503]\n",
      "[0.  0.6 0.4 0. ]\n"
     ]
    }
   ],
   "source": [
    "import numpy as np\n",
    "\n",
    "# Class Example\n",
    "# A_payoff = np.array([[3, 1, 2], \n",
    "#                      [4, 0, 6]])\n",
    "\n",
    "# B_payoff = np.array([[5, 1, 4], \n",
    "#                      [1, 3, 2]])\n",
    "\n",
    "A_payoff = np.array([[1, 2, 3, 3], \n",
    "                     [3, 4, 2, 4],\n",
    "                     [1, 2, 5, 2]])\n",
    "\n",
    "B_payoff = np.array([[5, 2, 4, 1], \n",
    "                     [0, 1, 5, 2],\n",
    "                     [3, 6, 2, 3]])\n",
    "\n",
    "def best_response_to_average_strategy(payoff_matrix, opponent_avg_strategy):\n",
    "    \"\"\"\n",
    "    Calculate the best response to the opponent's average strategy.\n",
    "    \"\"\"\n",
    "    # Calculate the expected utility for each strategy\n",
    "    expected_utilities = payoff_matrix @ opponent_avg_strategy\n",
    "    # The best response is the strategy with the highest expected utility\n",
    "    return np.argmax(expected_utilities)\n",
    "\n",
    "def fictitious_play(A_payoff, B_payoff, iterations=100000):\n",
    "    \"\"\"\n",
    "    Fictitious Play algorithm for games where players have a different number of strategies.\n",
    "    \"\"\"\n",
    "    num_strategies_A = A_payoff.shape[0]  # Number of strategies for Player A\n",
    "    num_strategies_B = B_payoff.shape[1]  # Number of strategies for Player B\n",
    "\n",
    "    # Initialize strategy counts for each player\n",
    "    strategy_counts_A = np.ones(num_strategies_A)\n",
    "    strategy_counts_B = np.ones(num_strategies_B)\n",
    "\n",
    "    for _ in range(iterations):\n",
    "        # print(strategy_counts_A, strategy_counts_B)\n",
    "        # Calculate the average strategy for each player\n",
    "        average_strategy_A = strategy_counts_A / np.sum(strategy_counts_A)\n",
    "        average_strategy_B = strategy_counts_B / np.sum(strategy_counts_B)\n",
    "\n",
    "        # Player A best responds to Player B's average strategy\n",
    "        best_response_A = best_response_to_average_strategy(A_payoff, average_strategy_B)\n",
    "        # Player B best responds to Player A's average strategy\n",
    "        best_response_B = best_response_to_average_strategy(B_payoff.T, average_strategy_A)\n",
    "\n",
    "        # Update the strategy counts\n",
    "        strategy_counts_A[best_response_A] += 1\n",
    "        strategy_counts_B[best_response_B] += 1\n",
    "\n",
    "    # Calculate the final average strategies\n",
    "    final_average_strategy_A = strategy_counts_A / np.sum(strategy_counts_A)\n",
    "    final_average_strategy_B = strategy_counts_B / np.sum(strategy_counts_B)\n",
    "\n",
    "    return final_average_strategy_A, final_average_strategy_B\n",
    "\n",
    "# Run the algorithm with the provided payoff matrices\n",
    "final_avg_strategy_A, final_avg_strategy_B = fictitious_play(A_payoff, B_payoff)\n",
    "print(final_avg_strategy_A.round(3)); print(final_avg_strategy_B.round(3))\n",
    "\n",
    "\n"
   ]
  },
  {
   "cell_type": "code",
   "execution_count": 21,
   "metadata": {},
   "outputs": [
    {
     "data": {
      "text/plain": [
       "3.140424"
      ]
     },
     "execution_count": 21,
     "metadata": {},
     "output_type": "execute_result"
    }
   ],
   "source": [
    "import numpy as np\n",
    "\n",
    "# Number of points for the simulation\n",
    "num_points = 1000000\n",
    "\n",
    "# Generate random points\n",
    "x = np.random.uniform(0, 1, num_points)\n",
    "y = np.random.uniform(0, 1, num_points)\n",
    "\n",
    "# Count points inside the quarter circle\n",
    "inside_circle = np.sum(x**2 + y**2 <= 1)\n",
    "\n",
    "# Estimate of Pi\n",
    "pi_estimate = 4 * inside_circle / num_points\n",
    "pi_estimate"
   ]
  },
  {
   "cell_type": "code",
   "execution_count": null,
   "metadata": {},
   "outputs": [],
   "source": [
    "# To quantify the uncertainty in a numerical estimation like the mean over a uniform distribution \n",
    "# of points, you can use the standard error of the mean (SEM). The SEM is the standard deviation of the\n",
    "# sample distribution of the mean, and it provides a measure of how far the estimated mean is likely to \n",
    "# be from the true mean if you were to repeat the experiment multiple times."
   ]
  },
  {
   "cell_type": "code",
   "execution_count": 30,
   "metadata": {},
   "outputs": [
    {
     "data": {
      "text/plain": [
       "(0.7276213579720239, 0.00022281787394583293)"
      ]
     },
     "execution_count": 30,
     "metadata": {},
     "output_type": "execute_result"
    }
   ],
   "source": [
    "num_points = 1000000\n",
    "\n",
    "X = np.random.uniform(0, 1, num_points)\n",
    "\n",
    "mean_sq_cos = np.mean(np.cos(X) ** 2)\n",
    "\n",
    "std_dev_sq_cos = np.std(np.cos(X) ** 2)\n",
    "\n",
    "# Calculate the standard error of the mean (SEM)\n",
    "sem_sq_cos = std_dev_sq_cos / np.sqrt(num_points)\n",
    "\n",
    "mean_sq_cos, sem_sq_cos\n"
   ]
  },
  {
   "cell_type": "code",
   "execution_count": 72,
   "metadata": {},
   "outputs": [
    {
     "data": {
      "text/plain": [
       "0.0"
      ]
     },
     "execution_count": 72,
     "metadata": {},
     "output_type": "execute_result"
    }
   ],
   "source": [
    "from scipy.stats import norm\n",
    "from scipy.integrate import quad\n",
    "import numpy as np\n",
    "\n",
    "# Parameters for the normal distributions f and g\n",
    "mu_f, sigma_f = 0, 1 # Standard normal for f\n",
    "nu_g, tau_g = 0, 1 # Standard normal for g\n",
    "\n",
    "# Define the probability density functions for f and g\n",
    "def f(x):\n",
    "    return norm.pdf(x, mu_f, sigma_f)\n",
    "\n",
    "def g(x):\n",
    "    return norm.pdf(x, nu_g, tau_g)\n",
    "\n",
    "# KL divergence function for normal distributions\n",
    "def kl_divergence(f, g, mu_f, sigma_f, nu_g, tau_g):\n",
    "    # Closed-form solution for KL divergence between two normal distributions\n",
    "    return np.log(tau_g/sigma_f) + (sigma_f**2 + (mu_f - nu_g)**2) / (2 * tau_g**2) - 0.5\n",
    "\n",
    "# Calculate the KL divergence\n",
    "kl_div = kl_divergence(f, g, mu_f, sigma_f, nu_g, tau_g)\n",
    "kl_div\n"
   ]
  },
  {
   "cell_type": "code",
   "execution_count": 73,
   "metadata": {},
   "outputs": [
    {
     "name": "stdout",
     "output_type": "stream",
     "text": [
      "Total Reward: 194698.92734359548\n",
      "Average Reward: 1.9469892734359473\n",
      "Bandit 1: Estimated Value: 1.0100120246166535\n",
      "Bandit 2: Estimated Value: 1.9969583667375264\n"
     ]
    }
   ],
   "source": [
    "import numpy as np\n",
    "\n",
    "class BanditArm:\n",
    "    def __init__(self, mean):\n",
    "        self.mean = mean\n",
    "        self.estimated_value = 0\n",
    "        self.n_pulls = 0\n",
    "\n",
    "    def pull(self):\n",
    "        # Pulling the arm returns a reward from a normal distribution around the true mean.\n",
    "        return np.random.randn() + self.mean\n",
    "\n",
    "    def update_estimated_value(self, reward):\n",
    "        # Update the estimated value using incremental formula\n",
    "        self.n_pulls += 1\n",
    "        self.estimated_value = self.estimated_value + (1 / self.n_pulls) * (reward - self.estimated_value)\n",
    "\n",
    "class EpsilonGreedyStrategy:\n",
    "    def __init__(self, epsilon, bandits):\n",
    "        self.epsilon = epsilon\n",
    "        self.bandits = bandits\n",
    "\n",
    "    def select_arm(self):\n",
    "        if np.random.rand() < self.epsilon:\n",
    "            return np.random.choice(self.bandits)\n",
    "        else:\n",
    "            return max(self.bandits, key=lambda b: b.estimated_value)\n",
    "\n",
    "def k_bandit_problem(k, epsilon, true_means, n_steps):\n",
    "    bandits = [BanditArm(mean) for mean in true_means]\n",
    "    strategy = EpsilonGreedyStrategy(epsilon, bandits)\n",
    "    rewards = []\n",
    "\n",
    "    for _ in range(n_steps):\n",
    "        selected_bandit = strategy.select_arm()\n",
    "        reward = selected_bandit.pull()\n",
    "        selected_bandit.update_estimated_value(reward)\n",
    "        rewards.append(reward)\n",
    "\n",
    "    return rewards, bandits\n",
    "\n",
    "k = 2\n",
    "epsilon = 0.1  # 10% of the time explore\n",
    "true_means = [1.0, 2.0]  # True means of the rewards for each bandit\n",
    "n_steps = 100000  # Number of steps to simulate\n",
    "\n",
    "# Run the simulation\n",
    "rewards, bandits = k_bandit_problem(k, epsilon, true_means, n_steps)\n",
    "\n",
    "# Results\n",
    "total_reward = sum(rewards)\n",
    "average_reward = np.mean(rewards)\n",
    "print(f'Total Reward: {total_reward}')\n",
    "print(f'Average Reward: {average_reward}')\n",
    "for i, bandit in enumerate(bandits):\n",
    "    print(f'Bandit {i+1}: Estimated Value: {bandit.estimated_value}')\n"
   ]
  },
  {
   "cell_type": "code",
   "execution_count": null,
   "metadata": {},
   "outputs": [],
   "source": []
  }
 ],
 "metadata": {
  "kernelspec": {
   "display_name": "dl",
   "language": "python",
   "name": "python3"
  },
  "language_info": {
   "codemirror_mode": {
    "name": "ipython",
    "version": 3
   },
   "file_extension": ".py",
   "mimetype": "text/x-python",
   "name": "python",
   "nbconvert_exporter": "python",
   "pygments_lexer": "ipython3",
   "version": "3.11.5"
  }
 },
 "nbformat": 4,
 "nbformat_minor": 2
}
